{
  "nbformat": 4,
  "nbformat_minor": 0,
  "metadata": {
    "colab": {
      "provenance": []
    },
    "kernelspec": {
      "name": "python3",
      "display_name": "Python 3"
    },
    "language_info": {
      "name": "python"
    }
  },
  "cells": [
    {
      "cell_type": "code",
      "execution_count": 1,
      "metadata": {
        "colab": {
          "base_uri": "https://localhost:8080/"
        },
        "id": "M9P04vlRa-1R",
        "outputId": "8042c989-258c-47b5-f186-420776f7eb3a"
      },
      "outputs": [
        {
          "output_type": "stream",
          "name": "stdout",
          "text": [
            "Mounted at /content/drive\n"
          ]
        }
      ],
      "source": [
        "#google drive'a bağlanma\n",
        "\n",
        "from google.colab import drive\n",
        "drive.mount('/content/drive')"
      ]
    },
    {
      "cell_type": "code",
      "source": [
        "##### Veri setini yükleme #####\n",
        "import os\n",
        "import cv2\n",
        "\n",
        "\n",
        "dataset_path = \"/content/drive/My Drive/Colab/inme-hastaligi/healthcare-dataset-stroke-data.csv\""
      ],
      "metadata": {
        "id": "-zTdic42bQEE"
      },
      "execution_count": 8,
      "outputs": []
    },
    {
      "cell_type": "code",
      "source": [
        "# import libraries\n",
        "\n",
        "import pandas as pd\n",
        "import numpy as np\n",
        "import matplotlib.pyplot as plt\n",
        "import seaborn as sns\n",
        "\n",
        "\n",
        "from sklearn.pipeline import Pipeline\n",
        "from sklearn.preprocessing import StandardScaler\n",
        "from sklearn.model_selection import train_test_split\n",
        "from sklearn.linear_model import LogisticRegression\n",
        "from sklearn.tree import DecisionTreeClassifier\n",
        "from sklearn.tree import DecisionTreeRegressor\n",
        "from sklearn.metrics import accuracy_score, confusion_matrix, classification_report\n",
        "from tabulate import tabulate\n",
        "\n",
        "import warnings\n",
        "warnings.filterwarnings(\"ignore\")"
      ],
      "metadata": {
        "id": "94zZuFBhbwUp"
      },
      "execution_count": 6,
      "outputs": []
    },
    {
      "cell_type": "code",
      "source": [
        "# EDA\n",
        "\n",
        "df = pd.read_csv(dataset_path)\n",
        "df = df.drop([\"id\"], axis=1)\n",
        "\n",
        "df.info()\n",
        "\n",
        "describe = df.describe()\n",
        "print(tabulate(describe, headers='keys', tablefmt='grid'))"
      ],
      "metadata": {
        "colab": {
          "base_uri": "https://localhost:8080/"
        },
        "id": "cLCQafOdb0Wc",
        "outputId": "a065d2ee-020a-4451-8359-3b5f3b8ac30b"
      },
      "execution_count": 9,
      "outputs": [
        {
          "output_type": "stream",
          "name": "stdout",
          "text": [
            "<class 'pandas.core.frame.DataFrame'>\n",
            "RangeIndex: 5110 entries, 0 to 5109\n",
            "Data columns (total 11 columns):\n",
            " #   Column             Non-Null Count  Dtype  \n",
            "---  ------             --------------  -----  \n",
            " 0   gender             5110 non-null   object \n",
            " 1   age                5110 non-null   float64\n",
            " 2   hypertension       5110 non-null   int64  \n",
            " 3   heart_disease      5110 non-null   int64  \n",
            " 4   ever_married       5110 non-null   object \n",
            " 5   work_type          5110 non-null   object \n",
            " 6   Residence_type     5110 non-null   object \n",
            " 7   avg_glucose_level  5110 non-null   float64\n",
            " 8   bmi                4909 non-null   float64\n",
            " 9   smoking_status     5110 non-null   object \n",
            " 10  stroke             5110 non-null   int64  \n",
            "dtypes: float64(3), int64(3), object(5)\n",
            "memory usage: 439.3+ KB\n",
            "+-------+-----------+----------------+-----------------+---------------------+------------+-------------+\n",
            "|       |       age |   hypertension |   heart_disease |   avg_glucose_level |        bmi |      stroke |\n",
            "+=======+===========+================+=================+=====================+============+=============+\n",
            "| count | 5110      |    5110        |    5110         |           5110      | 4909       | 5110        |\n",
            "+-------+-----------+----------------+-----------------+---------------------+------------+-------------+\n",
            "| mean  |   43.2266 |       0.097456 |       0.0540117 |            106.148  |   28.8932  |    0.048728 |\n",
            "+-------+-----------+----------------+-----------------+---------------------+------------+-------------+\n",
            "| std   |   22.6126 |       0.296607 |       0.226063  |             45.2836 |    7.85407 |    0.21532  |\n",
            "+-------+-----------+----------------+-----------------+---------------------+------------+-------------+\n",
            "| min   |    0.08   |       0        |       0         |             55.12   |   10.3     |    0        |\n",
            "+-------+-----------+----------------+-----------------+---------------------+------------+-------------+\n",
            "| 25%   |   25      |       0        |       0         |             77.245  |   23.5     |    0        |\n",
            "+-------+-----------+----------------+-----------------+---------------------+------------+-------------+\n",
            "| 50%   |   45      |       0        |       0         |             91.885  |   28.1     |    0        |\n",
            "+-------+-----------+----------------+-----------------+---------------------+------------+-------------+\n",
            "| 75%   |   61      |       0        |       0         |            114.09   |   33.1     |    0        |\n",
            "+-------+-----------+----------------+-----------------+---------------------+------------+-------------+\n",
            "| max   |   82      |       1        |       1         |            271.74   |   97.6     |    1        |\n",
            "+-------+-----------+----------------+-----------------+---------------------+------------+-------------+\n"
          ]
        }
      ]
    },
    {
      "cell_type": "code",
      "source": [
        "#stroke etiketinin dağılımı (hasta veya değil)\n",
        "\n",
        "plt.figure()\n",
        "sns.countplot(x=\"stroke\", data=df)\n",
        "plt.title(\"Distribution of Stroke Class\")\n",
        "plt.show()\n",
        "\n"
      ],
      "metadata": {
        "colab": {
          "base_uri": "https://localhost:8080/",
          "height": 472
        },
        "id": "f15VOq1BgOzM",
        "outputId": "f5e77528-501d-46fb-d9c6-8a47ef344373"
      },
      "execution_count": 10,
      "outputs": [
        {
          "output_type": "display_data",
          "data": {
            "text/plain": [
              "<Figure size 640x480 with 1 Axes>"
            ],
            "image/png": "[encoded data removed]"
          },
          "metadata": {}
        }
      ]
    },
    {
      "cell_type": "markdown",
      "source": [
        "Dengesiz veri seti\n",
        "4800 -> 0\n",
        "250 -> 1\n",
        "\n",
        "Yanılmamak için:\n",
        "1.Confusion matrix\n",
        "2.f1 score\n",
        "\n",
        "Dengesiz veri seti çözümü:\n",
        "- stroke = 1 sayısını artırmak\n",
        "- down sampling (0) sayısını azalt, veri kayb olur"
      ],
      "metadata": {
        "id": "IvEus2x4hIQw"
      }
    },
    {
      "cell_type": "code",
      "source": [
        "#missing value\n",
        "\n",
        "df. isnull().sum()\n",
        "print(df.isnull().sum())\n"
      ],
      "metadata": {
        "colab": {
          "base_uri": "https://localhost:8080/"
        },
        "id": "49ByGnQfb4Zs",
        "outputId": "7e54352c-8b60-42c2-8e02-a995daa68b79"
      },
      "execution_count": 11,
      "outputs": [
        {
          "output_type": "stream",
          "name": "stdout",
          "text": [
            "gender                 0\n",
            "age                    0\n",
            "hypertension           0\n",
            "heart_disease          0\n",
            "ever_married           0\n",
            "work_type              0\n",
            "Residence_type         0\n",
            "avg_glucose_level      0\n",
            "bmi                  201\n",
            "smoking_status         0\n",
            "stroke                 0\n",
            "dtype: int64\n"
          ]
        }
      ]
    },
    {
      "cell_type": "code",
      "source": [
        "#missing value 2\n",
        "\n",
        "DT_bmi_pipe = Pipeline(steps = [\n",
        "    ('scale', StandardScaler()),  #veriyi standartlaştırmak için standart scaler\n",
        "    ('dtr', DecisionTreeRegressor())  # karar ağacı regresyon modeli\n",
        "])\n",
        "\n",
        "X = df[[\"gender\", \"age\", \"bmi\"]].copy()\n",
        "\n",
        "#gender sütununda bulunan değerleri sayısal değerlere dönüştürüyoruz\n",
        "# male -> 0, female -> 1, other -> -1\n",
        "\n",
        "X.gender = X.gender.replace({\"Male\": 0, \"Female\": 1, \"Other\": -1}).astype(np.uint8)\n",
        "\n",
        "#bmi değerleri eksik olan nan satırları ayır\n",
        "missing = X[X.bmi.isna()]\n",
        "\n",
        "#bmi değeri eksik olmayanları ayıralım\n",
        "X = X[~X.bmi.isna()]\n",
        "y = X.pop(\"bmi\")\n",
        "\n",
        "# odeli eksik olmayan verilerle eğit\n",
        "DT_bmi_pipe.fit(X, y)\n",
        "\n",
        "#eksik bmi değerlerini tahmin edelim, tahmin yapılırken gender ve age kullanılacak\n",
        "predicted_bmi = pd.Series(DT_bmi_pipe.predict(missing[[\"gender\", \"age\"]]), index=missing.index)\n",
        "\n",
        "df.loc[missing.index, \"bmi\"] = predicted_bmi\n"
      ],
      "metadata": {
        "id": "WYo9y3JPksoG"
      },
      "execution_count": 12,
      "outputs": []
    },
    {
      "cell_type": "code",
      "source": [
        "#model prediction:  encoding,trainig and testing\n",
        "\n",
        "df[\"gender\"] = df[\"gender\"].replace({\"Male\": 0, \"Female\": 1, \"Other\": -1}).astype(np.uint8)\n",
        "df[\"Residence_type\"] = df[\"Residence_type\"].replace({\"Urban\": 1, \"Rural\": 0}).astype(np.uint8)\n",
        "df[\"work_type\"] = df[\"work_type\"].replace({\n",
        "    \"Private\": 0,\n",
        "    \"Self-employed\": 1,\n",
        "    \"Govt_job\": 2,\n",
        "    \"children\": -1,\n",
        "    \"Never_worked\": -2\n",
        "}).astype(np.uint8)\n",
        "\n",
        "X = df[[\"gender\",\"age\",\"hypertension\",\"heart_disease\",\"work_type\",\"Residence_type\",\"avg_glucose_level\",\"bmi\"]]\n",
        "y = df[\"stroke\"]\n",
        "\n",
        "X_train, X_test, y_train, y_test = train_test_split(X, y, test_size=0.1, random_state=42)\n",
        "\n",
        "logreg_pipe = Pipeline([\n",
        "    ('scale', StandardScaler()),\n",
        "    ('logreg', LogisticRegression())\n",
        "])\n",
        "\n",
        "logreg_pipe.fit(X_train, y_train)\n",
        "\n",
        "#modelin testi\n",
        "y_pred = logreg_pipe.predict(X_test)\n",
        "\n",
        "accuracy = accuracy_score(y_test, y_pred)\n",
        "print(f\"Doğruluk Oranı: {accuracy:.4f}\")"
      ],
      "metadata": {
        "colab": {
          "base_uri": "https://localhost:8080/"
        },
        "id": "eSO2eDNCb27o",
        "outputId": "a054e1e8-12a6-405c-9d96-1269ac804446"
      },
      "execution_count": 13,
      "outputs": [
        {
          "output_type": "stream",
          "name": "stdout",
          "text": [
            "Doğruluk Oranı: 0.9452\n"
          ]
        }
      ]
    },
    {
      "cell_type": "code",
      "source": [
        "# model save and reload, real error test\n",
        "\n",
        "import joblib\n",
        "\n",
        "import joblib\n",
        "\n",
        "# Google Drive'a kayıt\n",
        "model_save_path = '/content/drive/My Drive/Colab/inme-hastaligi/inme_hastaligi_model.pkl'\n",
        "\n",
        "# modeli kaydet\n",
        "joblib.dump(logreg_pipe, model_save_path)\n",
        "print(\"Model Drive'a kaydedildi:\", model_save_path)\n"
      ],
      "metadata": {
        "colab": {
          "base_uri": "https://localhost:8080/"
        },
        "id": "dzQ05KVRb93t",
        "outputId": "a8ab73c0-fcc9-44e6-e96a-b8eead936693"
      },
      "execution_count": 15,
      "outputs": [
        {
          "output_type": "stream",
          "name": "stdout",
          "text": [
            "Model Drive'a kaydedildi: /content/drive/My Drive/Colab/inme-hastaligi/inme_hastaligi_model.pkl\n"
          ]
        }
      ]
    },
    {
      "cell_type": "code",
      "source": [
        "# modeli yükleme\n",
        "loaded_model = joblib.load('/content/drive/My Drive/Colab/inme-hastaligi/inme_hastaligi_model.pkl')\n"
      ],
      "metadata": {
        "id": "SrdHaoyLI67f"
      },
      "execution_count": 16,
      "outputs": []
    },
    {
      "cell_type": "code",
      "source": [
        "# yeni hasta verisi\n",
        "new_patient_data = pd.DataFrame({\n",
        "    'gender': [1],\n",
        "    'age': [55],\n",
        "    'hypertension': [1],\n",
        "    'heart_disease': [0],\n",
        "    'work_type': [0],\n",
        "    'Residence_type': [1],\n",
        "    \"avg_glucose_level\": [75],\n",
        "    \"bmi\": [25]\n",
        "})\n",
        "\n",
        "# tahmin sonucu\n",
        "new_patient_data_result = loaded_model.predict(new_patient_data)\n",
        "print(\"Tahmin:\", new_patient_data_result)\n",
        "\n",
        "# tahmin olasılığı\n",
        "new_patient_data_probability = loaded_model.predict_proba(new_patient_data)\n",
        "print(\"Olasılık:\", new_patient_data_probability)\n"
      ],
      "metadata": {
        "colab": {
          "base_uri": "https://localhost:8080/"
        },
        "id": "rembjiptJBxe",
        "outputId": "b4ba29a1-f459-4e74-8efd-9f2b910af73d"
      },
      "execution_count": 17,
      "outputs": [
        {
          "output_type": "stream",
          "name": "stdout",
          "text": [
            "Tahmin: [0]\n",
            "Olasılık: [[0.9527776 0.0472224]]\n"
          ]
        }
      ]
    },
    {
      "cell_type": "markdown",
      "source": [
        "%95 olasılıkla hasta değil\n",
        "%0,4 olasılıkla hasta"
      ],
      "metadata": {
        "id": "pGmuypwlxCYE"
      }
    }
  ]
}